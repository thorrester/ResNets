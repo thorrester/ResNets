{
 "cells": [
  {
   "cell_type": "markdown",
   "metadata": {},
   "source": [
    "## ResNet50 on NIH Maralria images"
   ]
  },
  {
   "cell_type": "code",
   "execution_count": 10,
   "metadata": {},
   "outputs": [
    {
     "name": "stderr",
     "output_type": "stream",
     "text": [
      "Using TensorFlow backend.\n"
     ]
    }
   ],
   "source": [
    "# Load dependencies\n",
    "from py_files import config\n",
    "from imutils import paths\n",
    "import shutil\n",
    "import os\n",
    "import random\n",
    "import matplotlib.pyplot as plt\n",
    "from keras.preprocessing.image import ImageDataGenerator\n",
    "from keras.callbacks import LearningRateScheduler\n",
    "from keras.optimizers import SGD\n",
    "from sklearn.metrics import classification_report\n",
    "from imutils import paths\n",
    "import numpy as np\n",
    "\n",
    "# Load dependecies for ResNet\n",
    "import numpy as np\n",
    "import keras\n",
    "import tensorflow as tf\n",
    "from keras import layers\n",
    "from keras.layers import Input, Add, Dense, Activation, ZeroPadding2D, BatchNormalization, Flatten, Conv2D, AveragePooling2D, MaxPooling2D, GlobalMaxPooling2D\n",
    "from keras.models import Model, load_model\n",
    "from keras.preprocessing import image\n",
    "from keras.utils import layer_utils\n",
    "from keras.utils.data_utils import get_file\n",
    "from keras.applications.imagenet_utils import preprocess_input\n",
    "from IPython.display import SVG\n",
    "from keras.utils.vis_utils import model_to_dot\n",
    "from keras.utils import plot_model\n",
    "from keras.initializers import glorot_uniform\n",
    "import scipy.misc\n",
    "from keras.datasets import mnist"
   ]
  },
  {
   "cell_type": "markdown",
   "metadata": {},
   "source": [
    "#### X_train and y_train were previously generated and saved in memory to reduce training time (allows us to use fit instead of fit_generator)"
   ]
  },
  {
   "cell_type": "code",
   "execution_count": 18,
   "metadata": {},
   "outputs": [],
   "source": [
    "from py_files import config\n",
    "# determine the total number of image paths in training, validation,\n",
    "# and testing directories\n",
    "totalTrain = len(list(paths.list_images(config.TRAIN_PATH)))\n",
    "totalVal = len(list(paths.list_images(config.VAL_PATH)))\n",
    "totalTest = len(list(paths.list_images(config.TEST_PATH)))"
   ]
  },
  {
   "cell_type": "code",
   "execution_count": 11,
   "metadata": {},
   "outputs": [
    {
     "name": "stdout",
     "output_type": "stream",
     "text": [
      "Found 5512 images belonging to 2 classes.\n"
     ]
    }
   ],
   "source": [
    "# Initialize the training generator\n",
    "# Flow_from_directory assumes a base input directory for the data split\n",
    "# Also assumes that there are N subdirectories within the input directory that correspond to class labels\n",
    "\n",
    "# Initialize the validation (and testing) data augmentation object\n",
    "testAug = ImageDataGenerator(rescale=1 / 255.0)\n",
    "\n",
    "# Initialize the testing generator\n",
    "testGen = testAug.flow_from_directory(\n",
    "    config.TEST_PATH,\n",
    "    class_mode=\"categorical\",\n",
    "    target_size=(64,64),\n",
    "    color_mode=\"rgb\",\n",
    "    shuffle=False,\n",
    "    batch_size=1)"
   ]
  },
  {
   "cell_type": "code",
   "execution_count": 80,
   "metadata": {},
   "outputs": [
    {
     "name": "stdout",
     "output_type": "stream",
     "text": [
      "['/job:localhost/replica:0/task:0/device:GPU:0']\n"
     ]
    }
   ],
   "source": [
    "#Confirm keras is using GPU\n",
    "from keras import backend as K\n",
    "print(K.tensorflow_backend._get_available_gpus())\n",
    "\n",
    "#Manually set GPU config\n",
    "config = tf.ConfigProto(device_count = {'GPU': 1, 'CPU': 8})\n",
    "sess = tf.Session(config=config)\n",
    "keras.backend.set_session(sess)"
   ]
  },
  {
   "cell_type": "code",
   "execution_count": 3,
   "metadata": {},
   "outputs": [
    {
     "name": "stdout",
     "output_type": "stream",
     "text": [
      "y_train loaded\n",
      "X_train loaded\n"
     ]
    }
   ],
   "source": [
    "# Load data\n",
    "y_train = np.load('y_train.npy')\n",
    "print('y_train loaded')\n",
    "X_train = np.load('X_train.npy')\n",
    "print('X_train loaded')"
   ]
  },
  {
   "cell_type": "code",
   "execution_count": 4,
   "metadata": {},
   "outputs": [],
   "source": [
    "def identity_block(X, f, filters, stage, block):\n",
    "    \"\"\"\n",
    "    Implementation of the identity block as defined in Figure 3\n",
    "\n",
    "    Arguments:\n",
    "    X -- input tensor of shape (m, n_H_prev, n_W_prev, n_C_prev)\n",
    "    f -- integer, specifying the shape of the middle CONV's window for the main path\n",
    "    filters -- python list of integers, defining the number of filters in the CONV layers of the main path\n",
    "    stage -- integer, used to name the layers, depending on their position in the network\n",
    "    block -- string/character, used to name the layers, depending on their position in the network\n",
    "\n",
    "    Returns:\n",
    "    X -- output of the identity block, tensor of shape (n_H, n_W, n_C)\n",
    "    \"\"\"\n",
    "\n",
    "    # defining name basis\n",
    "    conv_name_base = 'res' + str(stage) + block + '_branch'\n",
    "    bn_name_base = 'bn' + str(stage) + block + '_branch'\n",
    "\n",
    "    # Retrieve Filters\n",
    "    F1, F2, F3 = filters\n",
    "\n",
    "    # Save the input value.\n",
    "    X_shortcut = X\n",
    "\n",
    "    # First component of main path\n",
    "    X = Conv2D(filters=F1, kernel_size=(1, 1), strides=(1, 1), padding='valid', name=conv_name_base + '2a', kernel_initializer=glorot_uniform(seed=0))(X)\n",
    "    X = BatchNormalization(axis=3, name=bn_name_base + '2a')(X)\n",
    "    X = Activation('relu')(X)\n",
    "\n",
    "    # Second component of main path\n",
    "    X = Conv2D(filters=F2, kernel_size=(f, f), strides=(1, 1), padding='same', name=conv_name_base + '2b', kernel_initializer=glorot_uniform(seed=0))(X)\n",
    "    X = BatchNormalization(axis=3, name=bn_name_base + '2b')(X)\n",
    "    X = Activation('relu')(X)\n",
    "\n",
    "    # Third component of main path\n",
    "    X = Conv2D(filters=F3, kernel_size=(1, 1), strides=(1, 1), padding='valid', name=conv_name_base + '2c', kernel_initializer=glorot_uniform(seed=0))(X)\n",
    "    X = BatchNormalization(axis=3, name=bn_name_base + '2c')(X)\n",
    "\n",
    "    # Final step: Add shortcut value to main path, and pass it through a RELU activation\n",
    "    X = Add()([X, X_shortcut])\n",
    "    X = Activation('relu')(X)\n",
    "\n",
    "    return X"
   ]
  },
  {
   "cell_type": "code",
   "execution_count": 5,
   "metadata": {},
   "outputs": [],
   "source": [
    "def convolutional_block(X, f, filters, stage, block, s=2):\n",
    "    \"\"\"\n",
    "    Implementation of the convolutional block as defined in Figure 4\n",
    "\n",
    "    Arguments:\n",
    "    X -- input tensor of shape (m, n_H_prev, n_W_prev, n_C_prev)\n",
    "    f -- integer, specifying the shape of the middle CONV's window for the main path\n",
    "    filters -- python list of integers, defining the number of filters in the CONV layers of the main path\n",
    "    stage -- integer, used to name the layers, depending on their position in the network\n",
    "    block -- string/character, used to name the layers, depending on their position in the network\n",
    "    s -- Integer, specifying the stride to be used\n",
    "\n",
    "    Returns:\n",
    "    X -- output of the convolutional block, tensor of shape (n_H, n_W, n_C)\n",
    "    \"\"\"\n",
    "\n",
    "    # defining name basis\n",
    "    conv_name_base = 'res' + str(stage) + block + '_branch'\n",
    "    bn_name_base = 'bn' + str(stage) + block + '_branch'\n",
    "\n",
    "    # Retrieve Filters\n",
    "    F1, F2, F3 = filters\n",
    "\n",
    "    # Save the input value\n",
    "    X_shortcut = X\n",
    "\n",
    "    ##### MAIN PATH #####\n",
    "    # First component of main path \n",
    "    X = Conv2D(filters=F1, kernel_size=(1, 1), strides=(s, s), padding='valid', name=conv_name_base + '2a', kernel_initializer=glorot_uniform(seed=0))(X)\n",
    "    X = BatchNormalization(axis=3, name=bn_name_base + '2a')(X)\n",
    "    X = Activation('relu')(X)\n",
    "\n",
    "    # Second component of main path\n",
    "    X = Conv2D(filters=F2, kernel_size=(f, f), strides=(1, 1), padding='same', name=conv_name_base + '2b', kernel_initializer=glorot_uniform(seed=0))(X)\n",
    "    X = BatchNormalization(axis=3, name=bn_name_base + '2b')(X)\n",
    "    X = Activation('relu')(X)\n",
    "\n",
    "    # Third component of main path\n",
    "    X = Conv2D(filters=F3, kernel_size=(1, 1), strides=(1, 1), padding='valid', name=conv_name_base + '2c', kernel_initializer=glorot_uniform(seed=0))(X)\n",
    "    X = BatchNormalization(axis=3, name=bn_name_base + '2c')(X)\n",
    "\n",
    "    ##### SHORTCUT PATH ####\n",
    "    X_shortcut = Conv2D(filters=F3, kernel_size=(1, 1), strides=(s, s), padding='valid', name=conv_name_base + '1', kernel_initializer=glorot_uniform(seed=0))(X_shortcut)\n",
    "    X_shortcut = BatchNormalization(axis=3, name=bn_name_base + '1')(X_shortcut)\n",
    "\n",
    "    # Final step: Add shortcut value to main path, and pass it through a RELU activation\n",
    "    X = Add()([X, X_shortcut])\n",
    "    X = Activation('relu')(X)\n",
    "\n",
    "    return X"
   ]
  },
  {
   "cell_type": "code",
   "execution_count": 6,
   "metadata": {},
   "outputs": [],
   "source": [
    "def ResNet50(input_shape=(64, 64, 3), classes=6):\n",
    "    \"\"\"\n",
    "    Implementation of the popular ResNet50 the following architecture:\n",
    "    CONV2D -> BATCHNORM -> RELU -> MAXPOOL -> CONVBLOCK -> IDBLOCK*2 -> CONVBLOCK -> IDBLOCK*3\n",
    "    -> CONVBLOCK -> IDBLOCK*5 -> CONVBLOCK -> IDBLOCK*2 -> AVGPOOL -> TOPLAYER\n",
    "\n",
    "    Arguments:\n",
    "    input_shape -- shape of the images of the dataset\n",
    "    classes -- integer, number of classes\n",
    "\n",
    "    Returns:\n",
    "    model -- a Model() instance in Keras\n",
    "    \"\"\"\n",
    "\n",
    "    # Define the input as a tensor with shape input_shape\n",
    "    X_input = Input(input_shape)\n",
    "\n",
    "    # Zero-Padding\n",
    "    X = ZeroPadding2D((3, 3))(X_input)\n",
    "\n",
    "    # Stage 1\n",
    "    X = Conv2D(64, (7, 7), strides=(2, 2), name='conv1', kernel_initializer=glorot_uniform(seed=0))(X)\n",
    "    X = BatchNormalization(axis=3, name='bn_conv1')(X)\n",
    "    X = Activation('relu')(X)\n",
    "    X = MaxPooling2D((3, 3), strides=(2, 2))(X)\n",
    "\n",
    "    # Stage 2\n",
    "    X = convolutional_block(X, f=3, filters=[64, 64, 256], stage=2, block='a', s=1)\n",
    "    X = identity_block(X, 3, [64, 64, 256], stage=2, block='b')\n",
    "    X = identity_block(X, 3, [64, 64, 256], stage=2, block='c')\n",
    "\n",
    "    # Stage 3\n",
    "    X = convolutional_block(X, f=3, filters=[128, 128, 512], stage=3, block='a', s=2)\n",
    "    X = identity_block(X, 3, [128, 128, 512], stage=3, block='b')\n",
    "    X = identity_block(X, 3, [128, 128, 512], stage=3, block='c')\n",
    "    X = identity_block(X, 3, [128, 128, 512], stage=3, block='d')\n",
    "\n",
    "    # Stage 4\n",
    "    X = convolutional_block(X, f=3, filters=[256, 256, 1024], stage=4, block='a', s=2)\n",
    "    X = identity_block(X, 3, [256, 256, 1024], stage=4, block='b')\n",
    "    X = identity_block(X, 3, [256, 256, 1024], stage=4, block='c')\n",
    "    X = identity_block(X, 3, [256, 256, 1024], stage=4, block='d')\n",
    "    X = identity_block(X, 3, [256, 256, 1024], stage=4, block='e')\n",
    "    X = identity_block(X, 3, [256, 256, 1024], stage=4, block='f')\n",
    "\n",
    "    # Stage 5\n",
    "    X = X = convolutional_block(X, f=3, filters=[512, 512, 2048], stage=5, block='a', s=2)\n",
    "    X = identity_block(X, 3, [512, 512, 2048], stage=5, block='b')\n",
    "    X = identity_block(X, 3, [512, 512, 2048], stage=5, block='c')\n",
    "\n",
    "    # AVGPOOL Use \"X = AveragePooling2D(...)(X)\"\n",
    "    X = AveragePooling2D(pool_size=(2, 2), padding='same')(X)\n",
    "\n",
    "    # output layer\n",
    "    X = Flatten()(X)\n",
    "    X = Dense(classes, activation='softmax', name='fc' + str(classes), kernel_initializer=glorot_uniform(seed=0))(X)\n",
    "\n",
    "    # Create model\n",
    "    model = Model(inputs=X_input, outputs=X, name='ResNet50')\n",
    "\n",
    "    return model"
   ]
  },
  {
   "cell_type": "code",
   "execution_count": 10,
   "metadata": {},
   "outputs": [],
   "source": [
    "# Build model and compile\n",
    "model = ResNet50(input_shape=(64, 64, 3), classes=2)\n",
    "#opt= SGD(lr=INIT_LR, momentum=0.9) - if using scheduler\n",
    "model.compile(loss=\"binary_crossentropy\", optimizer='adam', metrics=[\"accuracy\"])"
   ]
  },
  {
   "cell_type": "code",
   "execution_count": 11,
   "metadata": {},
   "outputs": [],
   "source": [
    "# Define callbacks if using a scheduler\n",
    "callbacks = [LearningRateScheduler(poly_decay)]"
   ]
  },
  {
   "cell_type": "code",
   "execution_count": 14,
   "metadata": {},
   "outputs": [
    {
     "name": "stdout",
     "output_type": "stream",
     "text": [
      "Train on 17859 samples, validate on 1985 samples\n",
      "Epoch 1/50\n",
      "17859/17859 [==============================] - 135s 8ms/step - loss: 0.7442 - acc: 0.7168 - val_loss: 2.9784 - val_acc: 0.4887\n",
      "Epoch 2/50\n",
      "17859/17859 [==============================] - 64s 4ms/step - loss: 0.5079 - acc: 0.7687 - val_loss: 8.1968 - val_acc: 0.4887\n",
      "Epoch 3/50\n",
      "17859/17859 [==============================] - 65s 4ms/step - loss: 0.7343 - acc: 0.6246 - val_loss: 7.4264 - val_acc: 0.4771\n",
      "Epoch 4/50\n",
      "17859/17859 [==============================] - 65s 4ms/step - loss: 0.7268 - acc: 0.6560 - val_loss: 1.3426 - val_acc: 0.5567\n",
      "Epoch 5/50\n",
      "17859/17859 [==============================] - 65s 4ms/step - loss: 0.7573 - acc: 0.5934 - val_loss: 7.6835 - val_acc: 0.5108\n",
      "Epoch 6/50\n",
      "17859/17859 [==============================] - 65s 4ms/step - loss: 0.6589 - acc: 0.6496 - val_loss: 1.0674 - val_acc: 0.6141\n",
      "Epoch 7/50\n",
      "17859/17859 [==============================] - 65s 4ms/step - loss: 0.6224 - acc: 0.6912 - val_loss: 0.8812 - val_acc: 0.5451\n",
      "Epoch 8/50\n",
      "17859/17859 [==============================] - 65s 4ms/step - loss: 0.4662 - acc: 0.8111 - val_loss: 7.9876 - val_acc: 0.4887\n",
      "Epoch 9/50\n",
      "17859/17859 [==============================] - 66s 4ms/step - loss: 0.3092 - acc: 0.8989 - val_loss: 0.6076 - val_acc: 0.7995\n",
      "Epoch 10/50\n",
      "17859/17859 [==============================] - 66s 4ms/step - loss: 0.2821 - acc: 0.9139 - val_loss: 7.4726 - val_acc: 0.4887\n",
      "Epoch 11/50\n",
      "17859/17859 [==============================] - 66s 4ms/step - loss: 0.4430 - acc: 0.8675 - val_loss: 6.6122 - val_acc: 0.4897\n",
      "Epoch 12/50\n",
      "17859/17859 [==============================] - 65s 4ms/step - loss: 0.2377 - acc: 0.9270 - val_loss: 0.4733 - val_acc: 0.8428\n",
      "Epoch 13/50\n",
      "17859/17859 [==============================] - 65s 4ms/step - loss: 0.1859 - acc: 0.9381 - val_loss: 0.5507 - val_acc: 0.8892\n",
      "Epoch 14/50\n",
      "17859/17859 [==============================] - 65s 4ms/step - loss: 0.1897 - acc: 0.9380 - val_loss: 0.2879 - val_acc: 0.8811\n",
      "Epoch 15/50\n",
      "17859/17859 [==============================] - 65s 4ms/step - loss: 0.1577 - acc: 0.9502 - val_loss: 0.1406 - val_acc: 0.9491\n",
      "Epoch 16/50\n",
      "17859/17859 [==============================] - 64s 4ms/step - loss: 0.1445 - acc: 0.9553 - val_loss: 0.1304 - val_acc: 0.9521\n",
      "Epoch 17/50\n",
      "17859/17859 [==============================] - 64s 4ms/step - loss: 0.1505 - acc: 0.9505 - val_loss: 0.3497 - val_acc: 0.8146\n",
      "Epoch 18/50\n",
      "17859/17859 [==============================] - 65s 4ms/step - loss: 0.1413 - acc: 0.9547 - val_loss: 0.1288 - val_acc: 0.9572\n",
      "Epoch 19/50\n",
      "17859/17859 [==============================] - 64s 4ms/step - loss: 0.1267 - acc: 0.9592 - val_loss: 0.1351 - val_acc: 0.9572\n",
      "Epoch 20/50\n",
      "17859/17859 [==============================] - 65s 4ms/step - loss: 0.1205 - acc: 0.9590 - val_loss: 0.1495 - val_acc: 0.9572\n",
      "Epoch 21/50\n",
      "17859/17859 [==============================] - 65s 4ms/step - loss: 0.1719 - acc: 0.9424 - val_loss: 0.1930 - val_acc: 0.9300\n",
      "Epoch 22/50\n",
      "17859/17859 [==============================] - 65s 4ms/step - loss: 0.1384 - acc: 0.9548 - val_loss: 0.1259 - val_acc: 0.9597\n",
      "Epoch 23/50\n",
      "17859/17859 [==============================] - 65s 4ms/step - loss: 0.1215 - acc: 0.9595 - val_loss: 0.1369 - val_acc: 0.9537\n",
      "Epoch 24/50\n",
      "17859/17859 [==============================] - 65s 4ms/step - loss: 0.1155 - acc: 0.9611 - val_loss: 0.1282 - val_acc: 0.9531\n",
      "Epoch 25/50\n",
      "17859/17859 [==============================] - 65s 4ms/step - loss: 0.1081 - acc: 0.9621 - val_loss: 0.1248 - val_acc: 0.9572\n",
      "Epoch 26/50\n",
      "17859/17859 [==============================] - 65s 4ms/step - loss: 0.1035 - acc: 0.9634 - val_loss: 0.1335 - val_acc: 0.9552\n",
      "Epoch 27/50\n",
      "17859/17859 [==============================] - 65s 4ms/step - loss: 0.1002 - acc: 0.9650 - val_loss: 0.1290 - val_acc: 0.9572\n",
      "Epoch 28/50\n",
      "17859/17859 [==============================] - 65s 4ms/step - loss: 0.0933 - acc: 0.9665 - val_loss: 0.1397 - val_acc: 0.9542\n",
      "Epoch 29/50\n",
      "17859/17859 [==============================] - 65s 4ms/step - loss: 0.0903 - acc: 0.9679 - val_loss: 0.1451 - val_acc: 0.9577\n",
      "Epoch 30/50\n",
      "17859/17859 [==============================] - 65s 4ms/step - loss: 0.0878 - acc: 0.9679 - val_loss: 0.1418 - val_acc: 0.9562\n",
      "Epoch 31/50\n",
      "17859/17859 [==============================] - 65s 4ms/step - loss: 0.0841 - acc: 0.9701 - val_loss: 0.1213 - val_acc: 0.9572\n",
      "Epoch 32/50\n",
      "17859/17859 [==============================] - 64s 4ms/step - loss: 0.0784 - acc: 0.9711 - val_loss: 0.1534 - val_acc: 0.9526\n",
      "Epoch 33/50\n",
      "17859/17859 [==============================] - 64s 4ms/step - loss: 0.0806 - acc: 0.9708 - val_loss: 0.1257 - val_acc: 0.9587\n",
      "Epoch 34/50\n",
      "17859/17859 [==============================] - 65s 4ms/step - loss: 0.0725 - acc: 0.9741 - val_loss: 0.1282 - val_acc: 0.9557\n",
      "Epoch 35/50\n",
      "17859/17859 [==============================] - 64s 4ms/step - loss: 0.0676 - acc: 0.9763 - val_loss: 0.1567 - val_acc: 0.9511\n",
      "Epoch 36/50\n",
      "17859/17859 [==============================] - 65s 4ms/step - loss: 0.0693 - acc: 0.9759 - val_loss: 0.1632 - val_acc: 0.9461\n",
      "Epoch 37/50\n",
      "17859/17859 [==============================] - 65s 4ms/step - loss: 0.0650 - acc: 0.9761 - val_loss: 0.1411 - val_acc: 0.9547\n",
      "Epoch 38/50\n",
      "17859/17859 [==============================] - 65s 4ms/step - loss: 0.0641 - acc: 0.9768 - val_loss: 0.1671 - val_acc: 0.9491\n",
      "Epoch 39/50\n",
      "17859/17859 [==============================] - 65s 4ms/step - loss: 0.0600 - acc: 0.9776 - val_loss: 0.1516 - val_acc: 0.9531\n",
      "Epoch 40/50\n",
      "17859/17859 [==============================] - 65s 4ms/step - loss: 0.0557 - acc: 0.9791 - val_loss: 0.1776 - val_acc: 0.9511\n",
      "Epoch 41/50\n",
      "17859/17859 [==============================] - 65s 4ms/step - loss: 0.0565 - acc: 0.9790 - val_loss: 0.1656 - val_acc: 0.9486\n",
      "Epoch 42/50\n",
      "17859/17859 [==============================] - 65s 4ms/step - loss: 0.0488 - acc: 0.9826 - val_loss: 0.1576 - val_acc: 0.9501\n",
      "Epoch 43/50\n",
      "17859/17859 [==============================] - 65s 4ms/step - loss: 0.0622 - acc: 0.9785 - val_loss: 0.1874 - val_acc: 0.9416\n",
      "Epoch 44/50\n",
      "17859/17859 [==============================] - 65s 4ms/step - loss: 0.0420 - acc: 0.9854 - val_loss: 0.2257 - val_acc: 0.9259\n",
      "Epoch 45/50\n",
      "17859/17859 [==============================] - 65s 4ms/step - loss: 0.0421 - acc: 0.9842 - val_loss: 0.1506 - val_acc: 0.9526\n",
      "Epoch 46/50\n",
      "17859/17859 [==============================] - 65s 4ms/step - loss: 0.0383 - acc: 0.9858 - val_loss: 0.1773 - val_acc: 0.9552\n",
      "Epoch 47/50\n",
      "17859/17859 [==============================] - 65s 4ms/step - loss: 0.0420 - acc: 0.9852 - val_loss: 0.1805 - val_acc: 0.9461\n",
      "Epoch 48/50\n",
      "17859/17859 [==============================] - 65s 4ms/step - loss: 0.0365 - acc: 0.9863 - val_loss: 0.1936 - val_acc: 0.9491\n",
      "Epoch 49/50\n",
      "17859/17859 [==============================] - 65s 4ms/step - loss: 0.0323 - acc: 0.9883 - val_loss: 0.1849 - val_acc: 0.9562\n",
      "Epoch 50/50\n",
      "17859/17859 [==============================] - 65s 4ms/step - loss: 0.0280 - acc: 0.9895 - val_loss: 0.2172 - val_acc: 0.9552\n"
     ]
    }
   ],
   "source": [
    "H = model.fit(X_train, y_train,batch_size=128, epochs=50, validation_split=0.1)"
   ]
  },
  {
   "cell_type": "code",
   "execution_count": 29,
   "metadata": {},
   "outputs": [
    {
     "name": "stdout",
     "output_type": "stream",
     "text": [
      "Saved model to disk\n"
     ]
    }
   ],
   "source": [
    "# Sace model to disk\n",
    "model.save(\"resenet50_malaria.h5\")\n",
    "print(\"Saved model to disk\")"
   ]
  },
  {
   "cell_type": "code",
   "execution_count": null,
   "metadata": {},
   "outputs": [],
   "source": [
    "# Create test data\n",
    "# Create arrays\n",
    "X_list = []\n",
    "y_list = []\n",
    "batch_index = 0\n",
    "\n",
    "while batch_index <= totalTest-1:\n",
    "    x,y = testGen.next()\n",
    "    X_list.append(x[0])\n",
    "    y_list.append(y[0])\n",
    "    batch_index = batch_index + 1\n",
    "    if batch_index % 1000 == 0:\n",
    "        print(batch_index)\n",
    "X_test = np.asarray(X_list)\n",
    "y_test = np.asarray(y_list)\n",
    "print('Training complete')\n",
    "np.save('X_test.npy', X_test)\n",
    "np.save('y_test.npy', y_test)"
   ]
  },
  {
   "cell_type": "code",
   "execution_count": 68,
   "metadata": {},
   "outputs": [],
   "source": [
    "# Load test data\n",
    "X_test = np.load('X_test.npy')"
   ]
  },
  {
   "cell_type": "code",
   "execution_count": 69,
   "metadata": {},
   "outputs": [
    {
     "data": {
      "text/plain": [
       "(5512, 64, 64, 3)"
      ]
     },
     "execution_count": 69,
     "metadata": {},
     "output_type": "execute_result"
    }
   ],
   "source": [
    "X_test.shape"
   ]
  },
  {
   "cell_type": "code",
   "execution_count": 70,
   "metadata": {},
   "outputs": [
    {
     "name": "stdout",
     "output_type": "stream",
     "text": [
      "[INFO] evaluating network...\n",
      "              precision    recall  f1-score   support\n",
      "\n",
      " Parasitized       0.96      0.95      0.96      2726\n",
      "  Uninfected       0.95      0.96      0.96      2786\n",
      "\n",
      "    accuracy                           0.96      5512\n",
      "   macro avg       0.96      0.96      0.96      5512\n",
      "weighted avg       0.96      0.96      0.96      5512\n",
      "\n"
     ]
    }
   ],
   "source": [
    "# reset the testing generator and then use our trained model to\n",
    "# make predictions on the data\n",
    "print(\"[INFO] evaluating network...\")\n",
    "testGen.reset()\n",
    "predIdxs = model.predict(X_test)\n",
    "\n",
    "# for each image in the testing set we need to find the index of the\n",
    "# label with corresponding largest predicted probability\n",
    "predIdxs = np.argmax(predIdxs, axis=1)\n",
    "\n",
    "# show formatted classification report\n",
    "print(classification_report(testGen.classes, predIdxs,\n",
    "    target_names=testGen.class_indices.keys()))"
   ]
  },
  {
   "cell_type": "code",
   "execution_count": 78,
   "metadata": {},
   "outputs": [
    {
     "data": {
      "text/plain": [
       "<matplotlib.legend.Legend at 0x7f6e0c7dcd30>"
      ]
     },
     "execution_count": 78,
     "metadata": {},
     "output_type": "execute_result"
    },
    {
     "data": {
      "image/png": "[encoded data removed]",
      "text/plain": [
       "<Figure size 720x576 with 1 Axes>"
      ]
     },
     "metadata": {},
     "output_type": "display_data"
    }
   ],
   "source": [
    "# plot the training loss and accuracy\n",
    "N = 50\n",
    "plt.style.use(\"ggplot\")\n",
    "plt.figure(figsize=(10,8))\n",
    "plt.plot(np.arange(0, N), H.history[\"loss\"], label=\"train_loss\")\n",
    "plt.plot(np.arange(0, N), H.history[\"val_loss\"], label=\"val_loss\")\n",
    "plt.plot(np.arange(0, N), H.history[\"acc\"], label=\"train_acc\")\n",
    "plt.plot(np.arange(0, N), H.history[\"val_acc\"], label=\"val_acc\")\n",
    "plt.title(\"Training Loss and Accuracy on Dataset\")\n",
    "plt.xlabel(\"Epoch #\")\n",
    "plt.ylabel(\"Loss/Accuracy\")\n",
    "plt.ylim(0,1)\n",
    "plt.legend(loc=\"lower left\")"
   ]
  }
 ],
 "metadata": {
  "kernelspec": {
   "display_name": "Python 3",
   "language": "python",
   "name": "python3"
  },
  "language_info": {
   "codemirror_mode": {
    "name": "ipython",
    "version": 3
   },
   "file_extension": ".py",
   "mimetype": "text/x-python",
   "name": "python",
   "nbconvert_exporter": "python",
   "pygments_lexer": "ipython3",
   "version": "3.6.8"
  }
 },
 "nbformat": 4,
 "nbformat_minor": 4
}
